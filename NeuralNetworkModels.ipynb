{
 "cells": [
  {
   "cell_type": "markdown",
   "id": "e3da4fbf-6877-4e73-8f65-1527cdd1716f",
   "metadata": {},
   "source": [
    "# Stock Price Prediction Using RNN"
   ]
  },
  {
   "cell_type": "code",
   "execution_count": 1,
   "id": "c7f14d1c-197c-4146-a0af-1419f47cac23",
   "metadata": {},
   "outputs": [],
   "source": [
    "import yfinance as yf\n",
    "import pandas as pd\n",
    "from sklearn.preprocessing import StandardScaler\n",
    "from sklearn.metrics import mean_squared_error, mean_absolute_error\n",
    "import numpy as np\n",
    "import matplotlib.pyplot as plt\n",
    "from tensorflow.keras.models import Sequential\n",
    "from tensorflow.keras.layers import LSTM, SimpleRNN, Dense, Dropout\n",
    "from sklearn.model_selection import TimeSeriesSplit"
   ]
  },
  {
   "cell_type": "code",
   "execution_count": 10,
   "id": "71424369-bff4-4929-9e4b-5547d166490b",
   "metadata": {},
   "outputs": [],
   "source": [
    "def Prediction_RNN():\n",
    "    # Reshape the data for RNN (samples, time steps, features)\n",
    "    trainX =np.array(X_train)\n",
    "    testX =np.array(X_test)\n",
    "    RNN_X_train = trainX.reshape(X_train.shape[0], 1, X_train.shape[1])\n",
    "    RNN_X_test = testX.reshape(X_test.shape[0], 1, X_test.shape[1])\n",
    "  \n",
    "    # define RNN model\n",
    "    RNN_model = Sequential()\n",
    "    RNN_model.add(SimpleRNN(units=64, return_sequences=False, input_shape=(RNN_X_train.shape[1], RNN_X_train.shape[2])))\n",
    "    RNN_model.add(Dropout(0.2))  # Regularization to prevent overfitting\n",
    "    RNN_model.add(Dense(1))  # Output layer for single price prediction\n",
    "\n",
    "    # Compile the model\n",
    "    RNN_model.compile(optimizer='adam', loss='mean_squared_error')\n",
    "    \n",
    "    # Train the model\n",
    "    RNN_history = RNN_model.fit(RNN_X_train, y_train, epochs=100, batch_size=8, validation_data=(RNN_X_test, y_test), verbose=1, shuffle=False)\n",
    "    \n",
    "    # Predictions\n",
    "    RNN_y_pred = RNN_model.predict(RNN_X_test)\n",
    "    \n",
    "    # Evaluate the model\n",
    "    RNN_mse = mean_squared_error(y_test, RNN_y_pred)\n",
    "    RNN_mae = mean_absolute_error(y_test,RNN_y_pred)\n",
    "    RNN_rmse = np.sqrt(RNN_mse)\n",
    "\n",
    "    return RNN_model,RNN_y_pred,RNN_mse,RNN_mae,RNN_rmse"
   ]
  },
  {
   "cell_type": "code",
   "execution_count": 7,
   "id": "de961cf4-defd-45e1-b345-876fa47ea6bd",
   "metadata": {},
   "outputs": [],
   "source": [
    "def Visualize_RNN(RNN_y_pred,RNN_mse,RNN_mae,RNN_rmse):\n",
    "    \n",
    "    # MSE, MAE, RMSE\n",
    "    print(f'Mean Squared Error (MSE): {RNN_mse}')\n",
    "    print(f'Mean Absolute Error (MAE): {RNN_mae}')\n",
    "    print(f'Root Mean Squared Error (RMSE): {RNN_rmse}')\n",
    "    \n",
    "    # Predicted vs True Adj Close Value – Simple RNN\n",
    "    plt.figure(figsize=(14, 7))\n",
    "    plt.plot(y_test, label='True Value')\n",
    "    plt.plot(RNN_y_pred, label='RNN Value')\n",
    "    plt.title('Prediction by Simple RNN')\n",
    "    plt.xlabel('Time Scale')\n",
    "    plt.ylabel('Scaled USD')\n",
    "    plt.legend()\n",
    "    plt.grid(True)\n",
    "    #plt.tight_layout()\n",
    "    plt.show()"
   ]
  },
  {
   "cell_type": "markdown",
   "id": "b676ea9d-b23e-47ee-8e85-bb8d4860f5e3",
   "metadata": {},
   "source": [
    "# Stock Price Prediction using LSTM"
   ]
  },
  {
   "cell_type": "code",
   "execution_count": 8,
   "id": "b80a9745-d80e-47d4-ac8f-62d877e0df41",
   "metadata": {},
   "outputs": [],
   "source": [
    "def Prediction_LSTM():\n",
    "    \n",
    "    # Reshape the data for LSTM (samples, time steps, features)\n",
    "    trainX = np.array(X_train)\n",
    "    testX = np.array(X_test)\n",
    "    LSTM_X_train = trainX.reshape(X_train.shape[0], 1, X_train.shape[1])\n",
    "    LSTM_X_test = testX.reshape(X_test.shape[0], 1, X_test.shape[1])\n",
    "    \n",
    "    # Define the LSTM model\n",
    "    LSTM_model = Sequential()\n",
    "    LSTM_model.add(LSTM(32, input_shape=(1, trainX.shape[1]), activation='relu', return_sequences=False))\n",
    "    LSTM_model.add(Dense(1))\n",
    "    LSTM_model.compile(loss='mean_squared_error', optimizer='adam')\n",
    "    \n",
    "    #Model Training\n",
    "    history=LSTM_model.fit(LSTM_X_train, y_train, epochs=100, batch_size=8, validation_data=(LSTM_X_test, y_test), verbose=1, shuffle=False)\n",
    "    \n",
    "    # Predictions\n",
    "    LSTM_y_pred = LSTM_model.predict(LSTM_X_test)\n",
    "    \n",
    "    # Evaluate the model\n",
    "    LSTM_mse = mean_squared_error(y_test, LSTM_y_pred)\n",
    "    LSTM_mae = mean_absolute_error(y_test, LSTM_y_pred)\n",
    "    LSTM_rmse = np.sqrt(LSTM_mse)\n",
    "\n",
    "    return LSTM_model,LSTM_y_pred,LSTM_mse,LSTM_mae,LSTM_rmse"
   ]
  },
  {
   "cell_type": "code",
   "execution_count": 9,
   "id": "3d32c129-3cfd-4003-94dc-c66966b69f36",
   "metadata": {},
   "outputs": [],
   "source": [
    "def Visualize_LSTM(LSTM_y_pred,LSTM_mse,LSTM_mae,LSTM_rmse):\n",
    "    \n",
    "    # MSE,MAE,RMSE\n",
    "    print(f'Mean Squared Error (MSE): {LSTM_mse}')\n",
    "    print(f'Mean Absolute Error (MAE): {LSTM_mae}')\n",
    "    print(f'Root Mean Squared Error (RMSE): {LSTM_rmse}')\n",
    "    \n",
    "    # Predicted vs True Adj Close Value – Simple RNN\n",
    "    plt.figure(figsize=(14, 7))\n",
    "    plt.plot(y_test, label='True Value')\n",
    "    plt.plot(LSTM_y_pred, label='LSTM Value')\n",
    "    plt.title('Prediction by LSTM')\n",
    "    plt.xlabel('Time Scale')\n",
    "    plt.ylabel('Scaled USD')\n",
    "    plt.legend()\n",
    "    plt.grid(True)\n",
    "    #plt.tight_layout()\n",
    "    plt.show()"
   ]
  },
  {
   "cell_type": "code",
   "execution_count": null,
   "id": "782f0503-930d-406c-995e-101917187dd8",
   "metadata": {},
   "outputs": [],
   "source": []
  }
 ],
 "metadata": {
  "kernelspec": {
   "display_name": "Python 3 (ipykernel)",
   "language": "python",
   "name": "python3"
  },
  "language_info": {
   "codemirror_mode": {
    "name": "ipython",
    "version": 3
   },
   "file_extension": ".py",
   "mimetype": "text/x-python",
   "name": "python",
   "nbconvert_exporter": "python",
   "pygments_lexer": "ipython3",
   "version": "3.10.14"
  }
 },
 "nbformat": 4,
 "nbformat_minor": 5
}
