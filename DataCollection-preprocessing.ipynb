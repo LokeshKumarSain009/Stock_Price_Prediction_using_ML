{
 "cells": [
  {
   "cell_type": "markdown",
   "id": "11de1759-9602-4ca8-8c14-a4b6fb4db523",
   "metadata": {},
   "source": [
    "# Fetching data from yfinance Library"
   ]
  },
  {
   "cell_type": "code",
   "execution_count": 1,
   "id": "d3098105",
   "metadata": {},
   "outputs": [],
   "source": [
    "import pandas as pd\n",
    "import yfinance as yf\n",
    "from sklearn.model_selection import train_test_split\n",
    "from sklearn.preprocessing import MinMaxScaler\n",
    "import numpy as np\n",
    "import plotly.express as px\n",
    "import matplotlib.pyplot as plt\n",
    "from sklearn.model_selection import TimeSeriesSplit"
   ]
  },
  {
   "cell_type": "code",
   "execution_count": 2,
   "id": "19a8918c-d5c2-4b7a-b0b1-9067f938e936",
   "metadata": {},
   "outputs": [],
   "source": [
    "def Fetch_Data():\n",
    "    df=yf.download(ticker, period=\"10y\") # fetching past 10 years data from Yahoo Finance. \n",
    "    df=pd.DataFrame(df)\n",
    "    df['Date']=pd.to_datetime(df.index)\n",
    "    \n",
    "    return df"
   ]
  },
  {
   "cell_type": "code",
   "execution_count": 3,
   "id": "b729bfc0",
   "metadata": {},
   "outputs": [],
   "source": [
    "def Visualize_Data(df):\n",
    "    # Visualize actual vs. predicted prices using matplotlib\n",
    "    plt.figure(figsize=(20, 10))\n",
    "    \n",
    "    # Actual prices\n",
    "    plt.plot(df['Date'], df['Close'], label='Close')\n",
    "    \n",
    "    plt.title(f'Actual vs. Predicted Prices for {ticker}')\n",
    "    plt.xlabel('Date')\n",
    "    plt.ylabel('Price')\n",
    "    plt.legend()\n",
    "    plt.grid(True)\n",
    "    #plt.tight_layout()\n",
    "    \n",
    "    plt.show()\n",
    "\n",
    "    info = yf.Ticker(ticker).info\n",
    "    for key, value in info.items():\n",
    "        print(f\"{key}: {value}\\n\")"
   ]
  },
  {
   "cell_type": "markdown",
   "id": "f03b4fc1-aafe-4873-9ad5-ce316df4b0e1",
   "metadata": {},
   "source": [
    "# Data Pre-Processing:"
   ]
  },
  {
   "cell_type": "code",
   "execution_count": 4,
   "id": "7c14943f-c129-4eda-86b2-4f9509851488",
   "metadata": {},
   "outputs": [],
   "source": [
    "def PreProcessing():\n",
    "    print(\"Dataframe Shape: \", df. shape)\n",
    "    print(\"Null Value Present: \", df.isnull().values.any())\n",
    "\n",
    "    if df.isnull().values.any():\n",
    "        df.dropna()\n",
    "\n",
    "    #Set Target Variable\n",
    "    output_var = pd.DataFrame(df['Close'])\n",
    "    #Selecting the Features\n",
    "    features = ['Open', 'High', 'Low', 'Volume']\n",
    "    \n",
    "    #Scaling\n",
    "    scaler = MinMaxScaler()\n",
    "    feature_transform = scaler.fit_transform(df[features])\n",
    "    feature_transform= pd.DataFrame(columns=features, data=feature_transform, index=df.index)\n",
    "\n",
    "    return output_var, features, feature_transform"
   ]
  },
  {
   "cell_type": "markdown",
   "id": "418af4ff-e2e2-4761-9436-5f0be09b30c0",
   "metadata": {},
   "source": [
    "# Train-Test Split"
   ]
  },
  {
   "cell_type": "code",
   "execution_count": 5,
   "id": "413ccc58-9395-4d8b-abe2-fa8d2cc99151",
   "metadata": {},
   "outputs": [],
   "source": [
    "def Train_Test_Split():\n",
    "    #Splitting to Training set and Test set\n",
    "    timesplit= TimeSeriesSplit(n_splits=10)\n",
    "    for train_index, test_index in timesplit.split(feature_transform):\n",
    "            X_train, X_test = feature_transform[:len(train_index)], feature_transform[len(train_index): (len(train_index)+len(test_index))]\n",
    "            y_train, y_test = output_var[:len(train_index)].values.ravel(), output_var[len(train_index): (len(train_index)+len(test_index))].values.ravel()\n",
    "\n",
    "    return X_train, X_test, y_train, y_test"
   ]
  },
  {
   "cell_type": "code",
   "execution_count": null,
   "id": "244e0670-3af3-4847-a89c-dff00e4f8846",
   "metadata": {},
   "outputs": [],
   "source": []
  }
 ],
 "metadata": {
  "kernelspec": {
   "display_name": "Python 3 (ipykernel)",
   "language": "python",
   "name": "python3"
  },
  "language_info": {
   "codemirror_mode": {
    "name": "ipython",
    "version": 3
   },
   "file_extension": ".py",
   "mimetype": "text/x-python",
   "name": "python",
   "nbconvert_exporter": "python",
   "pygments_lexer": "ipython3",
   "version": "3.10.14"
  }
 },
 "nbformat": 4,
 "nbformat_minor": 5
}
