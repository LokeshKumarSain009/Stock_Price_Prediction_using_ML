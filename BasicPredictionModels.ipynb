{
 "cells": [
  {
   "cell_type": "code",
   "execution_count": 1,
   "id": "25ed76fc-c9a7-4eb2-9f1f-eda65762fcb8",
   "metadata": {},
   "outputs": [],
   "source": [
    "from sklearn.preprocessing import StandardScaler, MinMaxScaler\n",
    "from sklearn.metrics import mean_squared_error, mean_absolute_error\n",
    "from sklearn.model_selection import train_test_split\n",
    "from sklearn.svm import SVR\n",
    "from sklearn.linear_model import LinearRegression\n",
    "from sklearn.ensemble import RandomForestRegressor\n",
    "import matplotlib.pyplot as plt\n",
    "import numpy as np\n",
    "from sklearn.model_selection import TimeSeriesSplit"
   ]
  },
  {
   "cell_type": "markdown",
   "id": "de856084-6ddd-4671-a816-0b8fdbd4e6c9",
   "metadata": {},
   "source": [
    "# Stock Price Prediction using Linear Regression, Support Vector Machine(SVM) and Random Forest"
   ]
  },
  {
   "cell_type": "code",
   "execution_count": 2,
   "id": "a373ff3b-6389-4c4a-9934-d5ccb5d73fd3",
   "metadata": {},
   "outputs": [],
   "source": [
    "def Standard_Scaling(df, features, feature_transform):\n",
    "    # Standardize the features\n",
    "    scaler = StandardScaler()\n",
    "    feature_transform = scaler.fit_transform(df[features])\n",
    "    feature_transform= pd.DataFrame(columns=features, data=feature_transform, index=df.index)\n",
    "    feature_transform.head()\n",
    "\n",
    "    return feature_transform"
   ]
  },
  {
   "cell_type": "code",
   "execution_count": 3,
   "id": "0f16d42c-11bb-48ee-8cd0-c1747fda5b82",
   "metadata": {},
   "outputs": [],
   "source": [
    "def Train_Test_Split_BasicModel(df,feature_transform):\n",
    "    output_var = pd.DataFrame(df['Close'])\n",
    "    \n",
    "    #Splitting to Training set and Test set\n",
    "    timesplit= TimeSeriesSplit(n_splits=10)\n",
    "    for train_index, test_index in timesplit.split(feature_transform):\n",
    "            X_train, X_test = feature_transform[:len(train_index)], feature_transform[len(train_index): (len(train_index)+len(test_index))]\n",
    "            y_train, y_test = output_var[:len(train_index)].values.ravel(), output_var[len(train_index): (len(train_index)+len(test_index))].values.ravel()\n",
    "\n",
    "    return X_train, X_test,y_train, y_test"
   ]
  },
  {
   "cell_type": "code",
   "execution_count": null,
   "id": "0a29b738-830b-45ac-b8a0-25be92eef934",
   "metadata": {},
   "outputs": [],
   "source": []
  },
  {
   "cell_type": "markdown",
   "id": "e4f5040a-ab20-4123-b090-4eeee55b0632",
   "metadata": {},
   "source": [
    "# Linear Regression Model"
   ]
  },
  {
   "cell_type": "code",
   "execution_count": 4,
   "id": "8ff4787f-62e3-475e-af29-07a4594608fb",
   "metadata": {},
   "outputs": [],
   "source": [
    "def Prediction_LR(Basic_X_train, Basic_X_test,Basic_y_train, Basic_y_test):\n",
    "    # Linear Regression model\n",
    "    linear_model=LinearRegression()\n",
    "    \n",
    "    linear_model.fit(X_train, y_train)\n",
    "    linear_y_pred = linear_model.predict(X_test)\n",
    "    \n",
    "    # Calculating Evaluation Matrix\n",
    "    linear_mse = mean_squared_error(y_test, linear_y_pred)\n",
    "    linear_mae = mean_absolute_error(y_test, linear_y_pred)\n",
    "    linear_rmse = np.sqrt(linear_mse)\n",
    "\n",
    "    return linear_model,linear_y_pred,linear_mse,linear_mae,linear_rmse"
   ]
  },
  {
   "cell_type": "code",
   "execution_count": 5,
   "id": "bcf25ff1-77d9-4117-877c-d0d81583dba1",
   "metadata": {},
   "outputs": [],
   "source": [
    "def Visualize_LR(linear_model,linear_y_pred,linear_mse,linear_mae,linear_rmse):\n",
    "    \n",
    "    # MSE,MAE,RMSE\n",
    "    print(f'LR Mean Squared Error (MSE): {linear_mse}')\n",
    "    print(f'LR Mean Absolute Error (MAE): {linear_mae}')\n",
    "    print(f'LR Root Mean Squared Error (RMSE): {linear_rmse}')\n",
    "\n",
    "    # Plot the results\n",
    "    plt.figure(figsize=(14, 7))\n",
    "    plt.plot(y_test, label='True Value')\n",
    "    plt.plot(linear_y_pred, label=f'{linear_model} Value')\n",
    "    plt.title(f'Prediction by Linear Regression')\n",
    "    plt.xlabel('Time Scale')\n",
    "    plt.ylabel('Scaled USD')\n",
    "    plt.legend()\n",
    "    plt.grid(True)\n",
    "    plt.show() "
   ]
  },
  {
   "cell_type": "markdown",
   "id": "92b11d87-12c9-4793-abf5-f2f093456e6b",
   "metadata": {},
   "source": [
    "# SVM Model"
   ]
  },
  {
   "cell_type": "code",
   "execution_count": 6,
   "id": "b905562a-4d9e-4ac6-bee4-3474f4aa30da",
   "metadata": {},
   "outputs": [],
   "source": [
    "def Prediction_SVM(Basic_X_train, Basic_X_test,Basic_y_train, Basic_y_test):\n",
    "    # SVM model\n",
    "    svm_model = SVR(kernel='rbf', C=100, gamma=0.1, epsilon=.1)\n",
    "    \n",
    "    svm_model.fit(X_train, y_train)\n",
    "    svm_y_pred = svm_model.predict(X_test)\n",
    "    \n",
    "    # Calculating Evaluation Matrix\n",
    "    svm_mse = mean_squared_error(y_test, svm_y_pred)\n",
    "    svm_mae = mean_absolute_error(y_test, svm_y_pred)\n",
    "    svm_rmse = np.sqrt(svm_mse)\n",
    "\n",
    "    return svm_model,svm_y_pred, svm_mse,svm_mae,svm_rmse"
   ]
  },
  {
   "cell_type": "code",
   "execution_count": 7,
   "id": "961833aa-21c9-43d1-bc5a-51e2d4238231",
   "metadata": {},
   "outputs": [],
   "source": [
    "def Visualize_SVM(svm_model,svm_y_pred, svm_mse,svm_mae,svm_rmse):\n",
    "\n",
    "    # MSE,MAE,RMSE\n",
    "    print(f'SVM Mean Squared Error (MSE): {svm_mse}')\n",
    "    print(f'SVM Mean Absolute Error (MAE): {svm_mae}')\n",
    "    print(f'SVM Root Mean Squared Error (RMSE): {svm_rmse}')\n",
    "    \n",
    "    # Plot the results\n",
    "    plt.figure(figsize=(14, 7))\n",
    "    plt.plot(y_test, label='True Value')\n",
    "    plt.plot(svm_y_pred, label=f'{svm_model} Value')\n",
    "    plt.title(f'Prediction by SVM')\n",
    "    plt.xlabel('Time Scale')\n",
    "    plt.ylabel('Scaled USD')\n",
    "    plt.legend()\n",
    "    plt.grid(True)\n",
    "    plt.show() "
   ]
  },
  {
   "cell_type": "markdown",
   "id": "1ca71d4e-f7be-4497-bfbb-7f61b6259198",
   "metadata": {},
   "source": [
    "# Random Forest Model"
   ]
  },
  {
   "cell_type": "code",
   "execution_count": 8,
   "id": "88d206a7-081c-4d7c-ab93-9b1710b5684a",
   "metadata": {},
   "outputs": [],
   "source": [
    "def Prediction_RF(Basic_X_train, Basic_X_test,Basic_y_train, Basic_y_test):\n",
    "    # Random Forest Model\n",
    "    rf_model = RandomForestRegressor(n_estimators=100, random_state=42)\n",
    "    \n",
    "    rf_model.fit(X_train, y_train)\n",
    "    rf_y_pred = rf_model.predict(X_test)\n",
    "    \n",
    "    # Calculating Evaluation Matrix\n",
    "    rf_mse = mean_squared_error(y_test, rf_y_pred)\n",
    "    rf_mae = mean_absolute_error(y_test, rf_y_pred)\n",
    "    rf_rmse = np.sqrt(rf_mse)\n",
    "    \n",
    "    return rf_model,rf_y_pred,rf_mse,rf_mae,rf_rmse"
   ]
  },
  {
   "cell_type": "code",
   "execution_count": 9,
   "id": "c274dfea-80c0-4509-9a89-6a691cf21013",
   "metadata": {},
   "outputs": [],
   "source": [
    "def Visualize_RF(rf_model,rf_y_pred,rf_mse,rf_mae,rf_rmse):\n",
    "\n",
    "    # MSE,MAE,RMSE\n",
    "    print(f'RF Mean Squared Error (MSE): {rf_mse}')\n",
    "    print(f'RF Mean Absolute Error (MAE): {rf_mae}')\n",
    "    print(f'RF Root Mean Squared Error (RMSE): {rf_rmse}')\n",
    "    \n",
    "    # Plot the results\n",
    "    plt.figure(figsize=(14, 7))\n",
    "    plt.plot(y_test, label='True Value')\n",
    "    plt.plot(rf_y_pred, label=f'{rf_model} Value')\n",
    "    plt.title(f'Prediction by Random Forest')\n",
    "    plt.xlabel('Time Scale')\n",
    "    plt.ylabel('Scaled USD')\n",
    "    plt.legend()\n",
    "    plt.grid(True)\n",
    "    plt.show() "
   ]
  },
  {
   "cell_type": "code",
   "execution_count": null,
   "id": "9ae85e73-b5a4-4f58-bac3-4dbe86248d48",
   "metadata": {},
   "outputs": [],
   "source": []
  }
 ],
 "metadata": {
  "kernelspec": {
   "display_name": "Python 3 (ipykernel)",
   "language": "python",
   "name": "python3"
  },
  "language_info": {
   "codemirror_mode": {
    "name": "ipython",
    "version": 3
   },
   "file_extension": ".py",
   "mimetype": "text/x-python",
   "name": "python",
   "nbconvert_exporter": "python",
   "pygments_lexer": "ipython3",
   "version": "3.10.14"
  }
 },
 "nbformat": 4,
 "nbformat_minor": 5
}
